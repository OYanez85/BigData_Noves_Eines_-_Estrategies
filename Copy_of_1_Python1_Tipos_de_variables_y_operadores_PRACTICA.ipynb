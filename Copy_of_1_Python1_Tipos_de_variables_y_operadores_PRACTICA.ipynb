{
  "cells": [
    {
      "cell_type": "markdown",
      "metadata": {
        "id": "view-in-github",
        "colab_type": "text"
      },
      "source": [
        "<a href=\"https://colab.research.google.com/github/OYanez85/BigData_Noves_Eines_-_Estrategies_-Cibernarium-/blob/main/Copy_of_1_Python1_Tipos_de_variables_y_operadores_PRACTICA.ipynb\" target=\"_parent\"><img src=\"https://colab.research.google.com/assets/colab-badge.svg\" alt=\"Open In Colab\"/></a>"
      ]
    },
    {
      "cell_type": "markdown",
      "metadata": {
        "id": "gN2-JXtZLTKP"
      },
      "source": [
        "# Python 1: Tipos de variables y operadores\n",
        "\n",
        "**EJERCICIOS:**"
      ]
    },
    {
      "cell_type": "markdown",
      "metadata": {
        "id": "DiAUQ4X2LhNB"
      },
      "source": [
        "En primer lugar, introduciremos unos conceptos básicos muy útiles para cualquier ejercicio.\n",
        "* **Comentarios:** Si queremos poner un comentario explicativo que no sea parte del código, solo tenemos que poner el simbolo # delante de nuestro texto"
      ]
    },
    {
      "cell_type": "code",
      "execution_count": null,
      "metadata": {
        "id": "li9Ij7qJJ033"
      },
      "outputs": [],
      "source": [
        "#Esto es un ejemplo de comentario"
      ]
    },
    {
      "cell_type": "markdown",
      "metadata": {
        "id": "I7StLapHL28N"
      },
      "source": [
        "* **Ejecutar una celda:** Para ejecutar una celda en los notebooks de Google Colab solo tenemos que hacer la combinación de teclas Ctrl+Enter, para ejecutar una celda y quedarnos en ella, o Shift+Enter para ejecutar una celda y pasar a la siguiente. Shift+Enter es muy útil para ejecutar una celda tras otra.\n",
        "\n",
        "A partir de ahora ejecuta los ejemplos siguientes para ver su funcionamiento."
      ]
    },
    {
      "cell_type": "markdown",
      "metadata": {
        "id": "w5nModAPLiIV"
      },
      "source": [
        "* **Definir una variable:** Una variable es un sitio en el que guardar una información determinada. Recordemos que en Python no hace falta indicar qué gaurdaremos en la variable, ,dependiendo de si lo que guardamos en ella es un número entero, un decimal o una cadena de texto entre otros, la variable será de un tipo u otro. Cada variable tiene que tener un nombre, y asignaremos lo que queramos guardar en ella mediante el simbolo ="
      ]
    },
    {
      "cell_type": "code",
      "execution_count": null,
      "metadata": {
        "id": "QlEyEMSGMLL5"
      },
      "outputs": [],
      "source": [
        "#definimos una variable llamada var1 del tipo int (número entero)\n",
        "var1 = 3\n",
        "\n",
        "#comprobamos de que tipo es\n",
        "type(var1)"
      ]
    },
    {
      "cell_type": "code",
      "execution_count": null,
      "metadata": {
        "id": "kyL4XP4FMe3m"
      },
      "outputs": [],
      "source": [
        "#definimos una variable llamada color del tipo string (cadena de texto)\n",
        "color = 'amarillo'\n",
        "\n",
        "#comprobamos de que tipo es\n",
        "type(color)"
      ]
    },
    {
      "cell_type": "markdown",
      "metadata": {
        "id": "qBUvRZtRMWct"
      },
      "source": [
        "* **Pedir al usuario un dato:** Si queremos que al ejecutar un programa éste nos pida información para ser introducida por el usuario, debemos usar la función input e indicar previamente de que tipo será la variable que introduzca el usuario a no ser que sea un string. Es una buena práctica dejar un espacio al final de la quote que hagas para pedir el dato o escribir \\n para crear una nueva línea."
      ]
    },
    {
      "cell_type": "code",
      "execution_count": null,
      "metadata": {
        "id": "jlercE-8L2tk"
      },
      "outputs": [],
      "source": [
        "#Para introducir un entero\n",
        "age = int(input('Cuántos años tienes? '))\n",
        "\n",
        "#Para introducir una string\n",
        "name = input('Cómo te llamas?\\n')"
      ]
    },
    {
      "cell_type": "markdown",
      "metadata": {
        "id": "pXpDXgQFNMz1"
      },
      "source": [
        "Ahora hemos guardado la información proporcionada por el usuario en las variables indicadas.\n",
        "\n",
        "* **Imprimir información:** Es muy útil siempre que estemos programando imprimir los resultados que vamos obteniendo para ver si lo estamos haciendo bien. Para imprimir el output usamos la función print. Con ella podemos imprimir tanto texto (siempre entre comillas) como variables, intercalando la información con comas. En este caso no hará falta indicar de que tipo son las variables que imprimamos."
      ]
    },
    {
      "cell_type": "code",
      "execution_count": null,
      "metadata": {
        "id": "wkJNqW0CL0Aj"
      },
      "outputs": [],
      "source": [
        "print('El usuario tiene', age, 'años y se llama', name)"
      ]
    },
    {
      "cell_type": "markdown",
      "metadata": {
        "id": "lUrKzw-8N-Kd"
      },
      "source": [
        "Una vez tenemos clara esta información inicial, pasamos a los ejercicios. Deberéis imprimir el output de todos ellos para verificar que lo estáis haciendo correctamente."
      ]
    },
    {
      "cell_type": "markdown",
      "metadata": {
        "id": "BFdbI4bYOKXl"
      },
      "source": [
        "**Ejercicio 1**\n",
        "Definir una variable de cada tipo de los que hemos visto: int, float, string, list, dictionary y luego comprobar el tipo del que son mediante la función type(variable)"
      ]
    },
    {
      "cell_type": "code",
      "execution_count": null,
      "metadata": {
        "colab": {
          "base_uri": "https://localhost:8080/"
        },
        "id": "WfFIkGd3nONb",
        "outputId": "e216db81-9ef4-4acb-9cf0-c306685cce2b"
      },
      "outputs": [
        {
          "name": "stdout",
          "output_type": "stream",
          "text": [
            "<class 'int'>\n",
            "<class 'float'>\n",
            "<class 'str'>\n",
            "<class 'list'>\n",
            "<class 'dict'>\n"
          ]
        }
      ],
      "source": [
        "a=3\n",
        "b=4.5\n",
        "c='hola'\n",
        "d=[1,2,3,4]\n",
        "e={'clave1':1, 'clave2':2}\n",
        "print(type(a))\n",
        "print(type(b))\n",
        "print(type(c))\n",
        "print(type(d))\n",
        "print(type(e))"
      ]
    },
    {
      "cell_type": "markdown",
      "metadata": {
        "id": "AlU_83akOr8M"
      },
      "source": [
        "**Ejercicio 2**\n",
        "Pide al usuario dos números y luego calcula su suma e imprímela"
      ]
    },
    {
      "cell_type": "code",
      "execution_count": null,
      "metadata": {
        "colab": {
          "base_uri": "https://localhost:8080/"
        },
        "id": "nMtLZt8mnPda",
        "outputId": "9bab9003-df06-4369-8f6d-d9e82b2f627b"
      },
      "outputs": [
        {
          "name": "stdout",
          "output_type": "stream",
          "text": [
            "introduce los dos numeros3.1\n",
            "4.2\n",
            "7.300000000000001\n"
          ]
        }
      ],
      "source": [
        "numero1=float(input('introduce los dos numeros'))\n",
        "numero2=float(input())\n",
        "print(numero1+numero2)"
      ]
    },
    {
      "cell_type": "markdown",
      "metadata": {
        "id": "gPaI4IlpO4Yu"
      },
      "source": [
        "**Ejercicio 3**\n",
        "Calcula el área de un triangulo equilátero de base=8cm y altura=3cm. Recuerda que la fórmula para calcular el área de un triangulo equilátero es base por altura entre 2."
      ]
    },
    {
      "cell_type": "code",
      "execution_count": null,
      "metadata": {
        "colab": {
          "base_uri": "https://localhost:8080/"
        },
        "id": "lkqaqXfbnQlC",
        "outputId": "f7a8ff4f-ef83-4423-c9a8-3c0b15b1d50a"
      },
      "outputs": [
        {
          "name": "stdout",
          "output_type": "stream",
          "text": [
            "12.0\n"
          ]
        }
      ],
      "source": [
        "base=8\n",
        "altura=3\n",
        "print((base*altura)/2)"
      ]
    },
    {
      "cell_type": "markdown",
      "metadata": {
        "id": "6JeTxpZ7PXTH"
      },
      "source": [
        "**Ejercicio 4**\n",
        "Pide un número entero al usuario y averigua si es par o impar con una sola operación. Recuerda que para hacer la división y ver el residuo de un valor se usa el operador %."
      ]
    },
    {
      "cell_type": "code",
      "execution_count": null,
      "metadata": {
        "id": "32cODccyPsaE"
      },
      "outputs": [],
      "source": [
        "#ejemplo\n",
        "residuo = 5%3\n",
        "print(residuo) #el valor es igual a 2 porque la división entre 5 y 3 da como cociente 1 y residuo 2"
      ]
    },
    {
      "cell_type": "code",
      "execution_count": null,
      "metadata": {
        "colab": {
          "base_uri": "https://localhost:8080/"
        },
        "id": "4jqdxKPXnV6u",
        "outputId": "ffa39328-6b39-47cf-f952-45c9c2b903bf"
      },
      "outputs": [
        {
          "name": "stdout",
          "output_type": "stream",
          "text": [
            "introduce un numero13\n",
            "El numero impar\n"
          ]
        }
      ],
      "source": [
        "numero=int(input('introduce un numero'))\n",
        "if numero%2==0 :\n",
        "  print('El numero es par')\n",
        "else :\n",
        "  print('El numero impar')"
      ]
    },
    {
      "cell_type": "markdown",
      "metadata": {
        "id": "uIYvCHivPr68"
      },
      "source": [
        "**Ejercicio 5**\n",
        "Intercambia los valores de dos variables, haz que lo que contenga la variable x esté en la variable y y lo que está en la variable y esté en la x."
      ]
    },
    {
      "cell_type": "code",
      "execution_count": null,
      "metadata": {
        "colab": {
          "base_uri": "https://localhost:8080/"
        },
        "id": "bnpJJI3MPs0G",
        "outputId": "56997c7e-7a1d-4026-8edc-944daaa32b48"
      },
      "outputs": [
        {
          "name": "stdout",
          "output_type": "stream",
          "text": [
            "3\n",
            "Hello\n"
          ]
        }
      ],
      "source": [
        "#Definimos variables\n",
        "x = 'Hello'\n",
        "y = 3\n",
        "x,y=y,x\n",
        "print(x)\n",
        "print(y)"
      ]
    },
    {
      "cell_type": "markdown",
      "metadata": {
        "id": "wh1Fm5YPPoo4"
      },
      "source": [
        "**Ejercicio 6**\n",
        "Consigue que todas las palabras que se encuentran en distintos strings se encuentren en un solo string que forme una frase"
      ]
    },
    {
      "cell_type": "code",
      "execution_count": null,
      "metadata": {
        "id": "uLaNhq4MPoVI"
      },
      "outputs": [],
      "source": [
        "#Definimos las palabras\n",
        "word1 = '¿Qué '\n",
        "word2 = 'prefieres '\n",
        "word3 = 'para '\n",
        "word4 = 'desayunar?'"
      ]
    },
    {
      "cell_type": "code",
      "execution_count": null,
      "metadata": {
        "colab": {
          "base_uri": "https://localhost:8080/"
        },
        "id": "3gcIM0FZnaNt",
        "outputId": "305adb10-d534-4809-b126-e74b889c6f2f"
      },
      "outputs": [
        {
          "name": "stdout",
          "output_type": "stream",
          "text": [
            "¿Qué prefieres para desayunar?\n"
          ]
        }
      ],
      "source": [
        "print(word1 + word2 + word3 + word4)"
      ]
    },
    {
      "cell_type": "markdown",
      "metadata": {
        "id": "1a3EPksVQyPl"
      },
      "source": [
        "**Ejercicio 7**\n",
        "Pon en un comentario el resultado que crees que saldrá de cada comparador y luego ejecuta y comprueba"
      ]
    },
    {
      "cell_type": "code",
      "execution_count": null,
      "metadata": {
        "colab": {
          "base_uri": "https://localhost:8080/"
        },
        "id": "0WAEAVM0Q4SO",
        "outputId": "6931f8f5-58e2-4c69-d9b0-880cf8307e7f"
      },
      "outputs": [
        {
          "name": "stdout",
          "output_type": "stream",
          "text": [
            "True\n",
            "False\n",
            "False\n",
            "True\n",
            "False\n",
            "False\n"
          ]
        }
      ],
      "source": [
        "print(9>=2 or 132<128) #True\n",
        "print(3 in [1,4,5,32] and 1==1) #False\n",
        "print(9+3*2+1 == 25) #False\n",
        "print(24%2 == 0) #True\n",
        "print(15//2 == 7.5) #False\n",
        "print(2**3 != 8) #False"
      ]
    },
    {
      "cell_type": "markdown",
      "metadata": {
        "id": "0bD4AyD6SG5-"
      },
      "source": [
        "**Ejercicio 8** Para encontrar el máximo de una lista podemos usar la función max(), pero en este caso lo encontraremos de una forma distinta y comprobaremos que lo hayamos hecho bien con la función max(). Encuentra el máximo entre las listas list1 y list2: Dadas dos listas list1 y list2 concatenalas, luego ordena la lista resultante mediante la función .sort() y quédate con el último elemento que será el máximo."
      ]
    },
    {
      "cell_type": "code",
      "execution_count": null,
      "metadata": {
        "id": "76R5lESXRMOo"
      },
      "outputs": [],
      "source": [
        "list1 = [6, 13, 8, 21]\n",
        "list2 = [2, -50, 25]"
      ]
    },
    {
      "cell_type": "code",
      "execution_count": null,
      "metadata": {
        "colab": {
          "base_uri": "https://localhost:8080/"
        },
        "id": "eAyyewtlnkwa",
        "outputId": "0e5e046e-6291-4f6d-df25-68a1f13b5e96"
      },
      "outputs": [
        {
          "output_type": "stream",
          "name": "stdout",
          "text": [
            "25\n",
            "25\n"
          ]
        }
      ],
      "source": [
        "list3 = list1 + list2\n",
        "list3.sort()\n",
        "print(list3[-1])\n",
        "print(max(list3))"
      ]
    },
    {
      "cell_type": "markdown",
      "metadata": {
        "id": "KecnckzsTr-X"
      },
      "source": [
        "**Ejercicio 9** Añade la palabra 'Fin' al final de la lista obtenida en el apartado anterior mediante la función .append(). Y añade en la posición 2 de la misma lista la string 'Posición 2' mediante la función .insert()"
      ]
    },
    {
      "cell_type": "code",
      "execution_count": null,
      "metadata": {
        "colab": {
          "base_uri": "https://localhost:8080/"
        },
        "id": "YCJCLWy8nnoB",
        "outputId": "256fc7a1-46d0-426c-aecd-985f54c17050"
      },
      "outputs": [
        {
          "output_type": "stream",
          "name": "stdout",
          "text": [
            "[-50, 'Posicion 2', 2, 6, 8, 13, 21, 25, 'Fin']\n"
          ]
        }
      ],
      "source": [
        "list3.append('Fin')\n",
        "list3.insert(1, 'Posicion 2')\n",
        "print(list3)"
      ]
    },
    {
      "cell_type": "markdown",
      "metadata": {
        "id": "eNVdPDb2Sv01"
      },
      "source": [
        "**Ejercicio 10** Accede al primer elemento de la lista obtenida en el apartado anterior"
      ]
    },
    {
      "cell_type": "code",
      "execution_count": null,
      "metadata": {
        "colab": {
          "base_uri": "https://localhost:8080/"
        },
        "id": "44f0yuOInpBm",
        "outputId": "2d66c34b-6c67-4769-dfcf-611eb46dd8a3"
      },
      "outputs": [
        {
          "output_type": "stream",
          "name": "stdout",
          "text": [
            "-50\n"
          ]
        }
      ],
      "source": [
        "print(list3[0])"
      ]
    },
    {
      "cell_type": "markdown",
      "metadata": {
        "id": "02sobppfUc1t"
      },
      "source": [
        "**Ejercicio 11** Guarda en una lista llamada first3 los tres primeros elementos de la lista del apartado anterior y en otra lista llamada last3 los 3 últimos elementos.\n",
        "\n",
        "Recuerda que para seleccionar un trozo de una lista lo podemos indicar de la siguiente manera: Si quiero obtener de la posición 2 a la 5 de mylist los seleccionaré haciendo mylist[2:5]. Si queremos indicar el primer o el último elemento no hace falta poner nada en ese lugar, con mylist[:] obtendríamos todos los elementos de la lista."
      ]
    },
    {
      "cell_type": "code",
      "execution_count": null,
      "metadata": {
        "colab": {
          "base_uri": "https://localhost:8080/"
        },
        "id": "xxnx9gcjnqOJ",
        "outputId": "46287859-7158-4263-b406-ec82edfea6f5"
      },
      "outputs": [
        {
          "output_type": "stream",
          "name": "stdout",
          "text": [
            "[-50, 'Posicion 2', 2]\n"
          ]
        }
      ],
      "source": [
        "first3=list3[0:3]\n",
        "print(first3)"
      ]
    },
    {
      "cell_type": "markdown",
      "metadata": {
        "id": "CHtXdRBLVFF1"
      },
      "source": [
        "**Ejercicio 12**\n",
        "Para ordenar una lista, tenemos la función lista.sort() y la función sorted(lista). Con la función .sort() ordenamos la lista a la que aplicamos la función de manera permanente. Con la función sorted() hacemos una copia ordenada de la lista. Por defecto, estas funciones ordenan de menor a mayor en caso de ser números y en orden alfabético en caso de tener strings. Pero podemos colocar la expresion reverse=True dentro del parentesis de las funciones de orden, con la que el orden será el inverso.\n",
        "\n",
        "Ordena la lista my_list de menor a mayor y haz una copia de esta ordenada de mayor a menor usando las funciones acabadas de explicar."
      ]
    },
    {
      "cell_type": "code",
      "execution_count": null,
      "metadata": {
        "colab": {
          "base_uri": "https://localhost:8080/"
        },
        "id": "UuofKtDgnsXm",
        "outputId": "a42c8dde-3c9c-46cc-9673-5691d3c90c8c"
      },
      "outputs": [
        {
          "output_type": "stream",
          "name": "stdout",
          "text": [
            "[-50, 2, 6, 8, 13, 21, 25]\n"
          ]
        }
      ],
      "source": [
        "list1 = [6, 13, 8, 21]\n",
        "list2 = [2, -50, 25]\n",
        "list3 = list1 + list2\n",
        "list3.sort()\n",
        "listaordenada=sorted(list3)\n",
        "print(listaordenada)"
      ]
    },
    {
      "cell_type": "markdown",
      "metadata": {
        "id": "f88w_PHyYVni"
      },
      "source": [
        "**Ejercicio 13**\n",
        "Dado el siguiente diccionario, responde a las siguientes preguntas:"
      ]
    },
    {
      "cell_type": "code",
      "execution_count": null,
      "metadata": {
        "id": "M-cFrpkyY8D0"
      },
      "outputs": [],
      "source": [
        "#Definimos el diccionario\n",
        "\n",
        "dict1 = {'name' : 'Britney Spears',\n",
        "         'born' : 1981,\n",
        "         'profession' : 'singer'}"
      ]
    },
    {
      "cell_type": "markdown",
      "metadata": {
        "id": "9BEo4MJJZL7m"
      },
      "source": [
        "* En que año nació Britney Spears?"
      ]
    },
    {
      "cell_type": "code",
      "execution_count": null,
      "metadata": {
        "id": "HnyZjyfYnts-",
        "colab": {
          "base_uri": "https://localhost:8080/"
        },
        "outputId": "f2d924db-2fdd-4931-a408-2bfa84c7e1a0"
      },
      "outputs": [
        {
          "output_type": "stream",
          "name": "stdout",
          "text": [
            "1981\n"
          ]
        }
      ],
      "source": [
        "print(dict1.get('born'))"
      ]
    },
    {
      "cell_type": "markdown",
      "metadata": {
        "id": "JJZ1wMAQZUFL"
      },
      "source": [
        "* Añade al diccionario el país en el que nació Britney Spears"
      ]
    },
    {
      "cell_type": "code",
      "execution_count": null,
      "metadata": {
        "id": "Mm5cmp9cnvv_",
        "colab": {
          "base_uri": "https://localhost:8080/"
        },
        "outputId": "d97c2833-0957-485a-edd2-7bdb82ca47f0"
      },
      "outputs": [
        {
          "output_type": "stream",
          "name": "stdout",
          "text": [
            "{'name': 'Britney Spears', 'born': 1981, 'profession': 'singer', 'city': 'London'}\n"
          ]
        }
      ],
      "source": [
        "dict1['city'] = 'London'\n",
        "print(dict1)"
      ]
    },
    {
      "cell_type": "markdown",
      "metadata": {
        "id": "JZ_AMcbeZd_P"
      },
      "source": [
        "* Cambia la profesión de 'singer' a 'dancer'"
      ]
    },
    {
      "cell_type": "code",
      "execution_count": null,
      "metadata": {
        "id": "zLQ1WsOXnwGJ",
        "colab": {
          "base_uri": "https://localhost:8080/"
        },
        "outputId": "b108c880-b013-43ec-cb09-441d9a3a79b7"
      },
      "outputs": [
        {
          "output_type": "stream",
          "name": "stdout",
          "text": [
            "{'name': 'Britney Spears', 'born': 1981, 'profession': 'dancer', 'city': 'London'}\n"
          ]
        }
      ],
      "source": [
        "dict1['profession'] = 'dancer'\n",
        "print(dict1)"
      ]
    },
    {
      "cell_type": "markdown",
      "metadata": {
        "id": "m61h7NkbZjFc"
      },
      "source": [
        "**Ejercicio 14**\n",
        "Crea un diccionario con las notas que ha sacado Pepito en Matemáticas, Lengua, Química y Historia (inventadas) y devuelve su mejor nota."
      ]
    },
    {
      "cell_type": "code",
      "execution_count": null,
      "metadata": {
        "id": "ugkIvPxqnxk7",
        "colab": {
          "base_uri": "https://localhost:8080/"
        },
        "outputId": "8aa75b06-7b74-4297-f964-c730abef39be"
      },
      "outputs": [
        {
          "output_type": "stream",
          "name": "stdout",
          "text": [
            "8\n"
          ]
        }
      ],
      "source": [
        "dictNotes = {'Matematicas': 8,\n",
        "             'Lengua': 5,\n",
        "             'Quimica': 7,\n",
        "             'Historia': 3}\n",
        "print(max(dictNotes.values()))"
      ]
    },
    {
      "cell_type": "markdown",
      "metadata": {
        "id": "N4DuVBWvaMlm"
      },
      "source": [
        "Usando las funciones sum(list) y len(list), calcula la media de las notas de Pepito."
      ]
    },
    {
      "cell_type": "code",
      "execution_count": null,
      "metadata": {
        "id": "yxR_4IKznyio",
        "colab": {
          "base_uri": "https://localhost:8080/"
        },
        "outputId": "095d4d98-2803-489c-bfe8-5e830353b39d"
      },
      "outputs": [
        {
          "output_type": "stream",
          "name": "stdout",
          "text": [
            "La nota media es 5.75\n"
          ]
        }
      ],
      "source": [
        "media=sum(dictNotes.values()) / len(dictNotes.values())\n",
        "print('La nota media es', media)"
      ]
    }
  ],
  "metadata": {
    "colab": {
      "provenance": [],
      "include_colab_link": true
    },
    "kernelspec": {
      "display_name": "Python 3",
      "name": "python3"
    },
    "language_info": {
      "name": "python"
    }
  },
  "nbformat": 4,
  "nbformat_minor": 0
}